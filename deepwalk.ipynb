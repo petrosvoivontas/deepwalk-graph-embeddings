{
 "cells": [
  {
   "metadata": {},
   "cell_type": "markdown",
   "source": "# 1. Random walks",
   "id": "ce2a9685422e2438"
  },
  {
   "metadata": {
    "ExecuteTime": {
     "end_time": "2025-01-31T19:50:09.254861Z",
     "start_time": "2025-01-31T19:50:09.241724Z"
    }
   },
   "cell_type": "code",
   "source": [
    "import random\n",
    "\n",
    "\n",
    "def generate_random_walks(graph, walks_per_vertex, walk_length):\n",
    "    walks = []\n",
    "    nodes = list(graph.nodes())\n",
    "    for _ in range(walks_per_vertex):\n",
    "        random.shuffle(nodes)\n",
    "        for node in nodes:\n",
    "            walk = [node]\n",
    "            for _ in range(walk_length - 1):\n",
    "                neighbors = list(graph.neighbors(walk[-1]))\n",
    "                if neighbors:\n",
    "                    walk.append(random.choice(neighbors))\n",
    "                else:\n",
    "                    break\n",
    "            walks.append(walk)\n",
    "    return walks"
   ],
   "id": "62d1db453a888dbe",
   "outputs": [],
   "execution_count": 31
  },
  {
   "metadata": {},
   "cell_type": "markdown",
   "source": "## Example: Generate random walks of length 10 iterating over the vertex set 10 times",
   "id": "7942a3635279e355"
  },
  {
   "metadata": {
    "ExecuteTime": {
     "end_time": "2025-01-31T19:50:09.295169Z",
     "start_time": "2025-01-31T19:50:09.289387Z"
    }
   },
   "cell_type": "code",
   "source": [
    "import networkx as nx\n",
    "\n",
    "G = nx.karate_club_graph()\n",
    "\n",
    "ex_random_walks = generate_random_walks(G, walks_per_vertex=1, walk_length=10)\n",
    "ex_random_walks"
   ],
   "id": "7d30bf63cdf84a36",
   "outputs": [
    {
     "data": {
      "text/plain": [
       "[[11, 0, 1, 2, 0, 12, 3, 2, 8, 33],\n",
       " [15, 33, 22, 32, 22, 32, 14, 32, 23, 33],\n",
       " [21, 0, 10, 4, 6, 5, 6, 4, 6, 0],\n",
       " [22, 32, 29, 33, 23, 32, 2, 1, 21, 1],\n",
       " [5, 0, 11, 0, 31, 0, 4, 6, 0, 7],\n",
       " [14, 32, 22, 33, 22, 33, 28, 31, 32, 22],\n",
       " [4, 0, 19, 0, 2, 27, 33, 32, 18, 33],\n",
       " [28, 31, 25, 23, 27, 23, 32, 33, 30, 1],\n",
       " [17, 1, 0, 19, 1, 7, 0, 6, 0, 17],\n",
       " [19, 33, 19, 0, 6, 16, 6, 5, 10, 0],\n",
       " [16, 6, 16, 5, 6, 0, 21, 0, 17, 0],\n",
       " [3, 0, 13, 2, 27, 33, 20, 33, 9, 33],\n",
       " [25, 31, 28, 2, 27, 33, 27, 2, 28, 31],\n",
       " [32, 30, 33, 13, 33, 18, 32, 30, 33, 20],\n",
       " [7, 3, 2, 28, 33, 13, 1, 17, 0, 3],\n",
       " [1, 2, 28, 2, 3, 1, 7, 1, 0, 4],\n",
       " [33, 18, 33, 14, 33, 20, 33, 8, 0, 5],\n",
       " [27, 33, 9, 2, 9, 33, 29, 23, 27, 24],\n",
       " [30, 1, 13, 2, 1, 17, 1, 0, 1, 2],\n",
       " [20, 32, 18, 33, 30, 32, 23, 25, 24, 27],\n",
       " [31, 25, 24, 31, 33, 27, 24, 31, 28, 31],\n",
       " [29, 33, 27, 23, 27, 2, 7, 1, 19, 33],\n",
       " [10, 5, 10, 4, 6, 16, 6, 5, 6, 0],\n",
       " [0, 13, 33, 13, 2, 32, 22, 32, 23, 27],\n",
       " [12, 3, 13, 3, 7, 2, 32, 22, 32, 33],\n",
       " [23, 32, 23, 27, 2, 9, 2, 27, 24, 31],\n",
       " [6, 5, 16, 6, 0, 13, 0, 8, 33, 22],\n",
       " [24, 27, 33, 32, 31, 25, 24, 27, 2, 7],\n",
       " [8, 0, 21, 1, 13, 0, 31, 28, 33, 28],\n",
       " [26, 33, 27, 24, 25, 31, 0, 12, 3, 1],\n",
       " [2, 0, 13, 0, 7, 3, 1, 21, 1, 30],\n",
       " [13, 2, 8, 32, 18, 32, 2, 13, 0, 5],\n",
       " [9, 2, 1, 13, 2, 32, 2, 1, 0, 11],\n",
       " [18, 33, 30, 33, 15, 32, 18, 32, 14, 32]]"
      ]
     },
     "execution_count": 32,
     "metadata": {},
     "output_type": "execute_result"
    }
   ],
   "execution_count": 32
  },
  {
   "metadata": {},
   "cell_type": "markdown",
   "source": "# 2. Implement and train CBOW model",
   "id": "24b0cee6d823c2b"
  },
  {
   "metadata": {},
   "cell_type": "markdown",
   "source": "## 2.1. Implement CBOW model",
   "id": "a23d56214d839125"
  },
  {
   "metadata": {
    "ExecuteTime": {
     "end_time": "2025-01-31T19:50:09.303611Z",
     "start_time": "2025-01-31T19:50:09.300667Z"
    }
   },
   "cell_type": "code",
   "source": [
    "import torch.nn as nn\n",
    "\n",
    "\n",
    "class CBOW(nn.Module):\n",
    "    def __init__(self, vocab_size, embedding_dim):\n",
    "        super(CBOW, self).__init__()\n",
    "        self.embeddings = nn.Embedding(num_embeddings=vocab_size, embedding_dim=embedding_dim)\n",
    "        self.linear = nn.Linear(in_features=embedding_dim, out_features=vocab_size)\n",
    "        self.softmax = nn.Softmax(dim=1)\n",
    "\n",
    "    def forward(self, context):\n",
    "        embedded = self.embeddings(context)\n",
    "        context_mean = embedded.mean(dim=1)\n",
    "        out = self.linear(context_mean)\n",
    "        return self.softmax(out)"
   ],
   "id": "63b4a91fd276fec1",
   "outputs": [],
   "execution_count": 33
  },
  {
   "metadata": {},
   "cell_type": "markdown",
   "source": "## 2.2. Generate training samples (tuples with context and target for each node)",
   "id": "55ad25d127824023"
  },
  {
   "metadata": {
    "ExecuteTime": {
     "end_time": "2025-01-31T19:50:09.318720Z",
     "start_time": "2025-01-31T19:50:09.316339Z"
    }
   },
   "cell_type": "code",
   "source": [
    "def generate_training_samples(walks, window_size):\n",
    "    samples = []\n",
    "    half_window = (window_size - 1) // 2\n",
    "    for walk in walks:\n",
    "        for i in range(half_window, len(walk) - half_window):\n",
    "            context = (\n",
    "                    walk[i - half_window:i] + walk[i + 1:i + 1 + half_window]\n",
    "            )\n",
    "            target = walk[i]\n",
    "            samples.append((context, target))\n",
    "    return samples"
   ],
   "id": "b2113e89c68b467b",
   "outputs": [],
   "execution_count": 34
  },
  {
   "metadata": {
    "ExecuteTime": {
     "end_time": "2025-01-31T19:50:09.338932Z",
     "start_time": "2025-01-31T19:50:09.328348Z"
    }
   },
   "cell_type": "code",
   "source": "generate_training_samples(ex_random_walks, window_size=4)",
   "id": "ab476a2b07ddbcb3",
   "outputs": [
    {
     "data": {
      "text/plain": [
       "[([11, 1], 0),\n",
       " ([0, 2], 1),\n",
       " ([1, 0], 2),\n",
       " ([2, 12], 0),\n",
       " ([0, 3], 12),\n",
       " ([12, 2], 3),\n",
       " ([3, 8], 2),\n",
       " ([2, 33], 8),\n",
       " ([15, 22], 33),\n",
       " ([33, 32], 22),\n",
       " ([22, 22], 32),\n",
       " ([32, 32], 22),\n",
       " ([22, 14], 32),\n",
       " ([32, 32], 14),\n",
       " ([14, 23], 32),\n",
       " ([32, 33], 23),\n",
       " ([21, 10], 0),\n",
       " ([0, 4], 10),\n",
       " ([10, 6], 4),\n",
       " ([4, 5], 6),\n",
       " ([6, 6], 5),\n",
       " ([5, 4], 6),\n",
       " ([6, 6], 4),\n",
       " ([4, 0], 6),\n",
       " ([22, 29], 32),\n",
       " ([32, 33], 29),\n",
       " ([29, 23], 33),\n",
       " ([33, 32], 23),\n",
       " ([23, 2], 32),\n",
       " ([32, 1], 2),\n",
       " ([2, 21], 1),\n",
       " ([1, 1], 21),\n",
       " ([5, 11], 0),\n",
       " ([0, 0], 11),\n",
       " ([11, 31], 0),\n",
       " ([0, 0], 31),\n",
       " ([31, 4], 0),\n",
       " ([0, 6], 4),\n",
       " ([4, 0], 6),\n",
       " ([6, 7], 0),\n",
       " ([14, 22], 32),\n",
       " ([32, 33], 22),\n",
       " ([22, 22], 33),\n",
       " ([33, 33], 22),\n",
       " ([22, 28], 33),\n",
       " ([33, 31], 28),\n",
       " ([28, 32], 31),\n",
       " ([31, 22], 32),\n",
       " ([4, 19], 0),\n",
       " ([0, 0], 19),\n",
       " ([19, 2], 0),\n",
       " ([0, 27], 2),\n",
       " ([2, 33], 27),\n",
       " ([27, 32], 33),\n",
       " ([33, 18], 32),\n",
       " ([32, 33], 18),\n",
       " ([28, 25], 31),\n",
       " ([31, 23], 25),\n",
       " ([25, 27], 23),\n",
       " ([23, 23], 27),\n",
       " ([27, 32], 23),\n",
       " ([23, 33], 32),\n",
       " ([32, 30], 33),\n",
       " ([33, 1], 30),\n",
       " ([17, 0], 1),\n",
       " ([1, 19], 0),\n",
       " ([0, 1], 19),\n",
       " ([19, 7], 1),\n",
       " ([1, 0], 7),\n",
       " ([7, 6], 0),\n",
       " ([0, 0], 6),\n",
       " ([6, 17], 0),\n",
       " ([19, 19], 33),\n",
       " ([33, 0], 19),\n",
       " ([19, 6], 0),\n",
       " ([0, 16], 6),\n",
       " ([6, 6], 16),\n",
       " ([16, 5], 6),\n",
       " ([6, 10], 5),\n",
       " ([5, 0], 10),\n",
       " ([16, 16], 6),\n",
       " ([6, 5], 16),\n",
       " ([16, 6], 5),\n",
       " ([5, 0], 6),\n",
       " ([6, 21], 0),\n",
       " ([0, 0], 21),\n",
       " ([21, 17], 0),\n",
       " ([0, 0], 17),\n",
       " ([3, 13], 0),\n",
       " ([0, 2], 13),\n",
       " ([13, 27], 2),\n",
       " ([2, 33], 27),\n",
       " ([27, 20], 33),\n",
       " ([33, 33], 20),\n",
       " ([20, 9], 33),\n",
       " ([33, 33], 9),\n",
       " ([25, 28], 31),\n",
       " ([31, 2], 28),\n",
       " ([28, 27], 2),\n",
       " ([2, 33], 27),\n",
       " ([27, 27], 33),\n",
       " ([33, 2], 27),\n",
       " ([27, 28], 2),\n",
       " ([2, 31], 28),\n",
       " ([32, 33], 30),\n",
       " ([30, 13], 33),\n",
       " ([33, 33], 13),\n",
       " ([13, 18], 33),\n",
       " ([33, 32], 18),\n",
       " ([18, 30], 32),\n",
       " ([32, 33], 30),\n",
       " ([30, 20], 33),\n",
       " ([7, 2], 3),\n",
       " ([3, 28], 2),\n",
       " ([2, 33], 28),\n",
       " ([28, 13], 33),\n",
       " ([33, 1], 13),\n",
       " ([13, 17], 1),\n",
       " ([1, 0], 17),\n",
       " ([17, 3], 0),\n",
       " ([1, 28], 2),\n",
       " ([2, 2], 28),\n",
       " ([28, 3], 2),\n",
       " ([2, 1], 3),\n",
       " ([3, 7], 1),\n",
       " ([1, 1], 7),\n",
       " ([7, 0], 1),\n",
       " ([1, 4], 0),\n",
       " ([33, 33], 18),\n",
       " ([18, 14], 33),\n",
       " ([33, 33], 14),\n",
       " ([14, 20], 33),\n",
       " ([33, 33], 20),\n",
       " ([20, 8], 33),\n",
       " ([33, 0], 8),\n",
       " ([8, 5], 0),\n",
       " ([27, 9], 33),\n",
       " ([33, 2], 9),\n",
       " ([9, 9], 2),\n",
       " ([2, 33], 9),\n",
       " ([9, 29], 33),\n",
       " ([33, 23], 29),\n",
       " ([29, 27], 23),\n",
       " ([23, 24], 27),\n",
       " ([30, 13], 1),\n",
       " ([1, 2], 13),\n",
       " ([13, 1], 2),\n",
       " ([2, 17], 1),\n",
       " ([1, 1], 17),\n",
       " ([17, 0], 1),\n",
       " ([1, 1], 0),\n",
       " ([0, 2], 1),\n",
       " ([20, 18], 32),\n",
       " ([32, 33], 18),\n",
       " ([18, 30], 33),\n",
       " ([33, 32], 30),\n",
       " ([30, 23], 32),\n",
       " ([32, 25], 23),\n",
       " ([23, 24], 25),\n",
       " ([25, 27], 24),\n",
       " ([31, 24], 25),\n",
       " ([25, 31], 24),\n",
       " ([24, 33], 31),\n",
       " ([31, 27], 33),\n",
       " ([33, 24], 27),\n",
       " ([27, 31], 24),\n",
       " ([24, 28], 31),\n",
       " ([31, 31], 28),\n",
       " ([29, 27], 33),\n",
       " ([33, 23], 27),\n",
       " ([27, 27], 23),\n",
       " ([23, 2], 27),\n",
       " ([27, 7], 2),\n",
       " ([2, 1], 7),\n",
       " ([7, 19], 1),\n",
       " ([1, 33], 19),\n",
       " ([10, 10], 5),\n",
       " ([5, 4], 10),\n",
       " ([10, 6], 4),\n",
       " ([4, 16], 6),\n",
       " ([6, 6], 16),\n",
       " ([16, 5], 6),\n",
       " ([6, 6], 5),\n",
       " ([5, 0], 6),\n",
       " ([0, 33], 13),\n",
       " ([13, 13], 33),\n",
       " ([33, 2], 13),\n",
       " ([13, 32], 2),\n",
       " ([2, 22], 32),\n",
       " ([32, 32], 22),\n",
       " ([22, 23], 32),\n",
       " ([32, 27], 23),\n",
       " ([12, 13], 3),\n",
       " ([3, 3], 13),\n",
       " ([13, 7], 3),\n",
       " ([3, 2], 7),\n",
       " ([7, 32], 2),\n",
       " ([2, 22], 32),\n",
       " ([32, 32], 22),\n",
       " ([22, 33], 32),\n",
       " ([23, 23], 32),\n",
       " ([32, 27], 23),\n",
       " ([23, 2], 27),\n",
       " ([27, 9], 2),\n",
       " ([2, 2], 9),\n",
       " ([9, 27], 2),\n",
       " ([2, 24], 27),\n",
       " ([27, 31], 24),\n",
       " ([6, 16], 5),\n",
       " ([5, 6], 16),\n",
       " ([16, 0], 6),\n",
       " ([6, 13], 0),\n",
       " ([0, 0], 13),\n",
       " ([13, 8], 0),\n",
       " ([0, 33], 8),\n",
       " ([8, 22], 33),\n",
       " ([24, 33], 27),\n",
       " ([27, 32], 33),\n",
       " ([33, 31], 32),\n",
       " ([32, 25], 31),\n",
       " ([31, 24], 25),\n",
       " ([25, 27], 24),\n",
       " ([24, 2], 27),\n",
       " ([27, 7], 2),\n",
       " ([8, 21], 0),\n",
       " ([0, 1], 21),\n",
       " ([21, 13], 1),\n",
       " ([1, 0], 13),\n",
       " ([13, 31], 0),\n",
       " ([0, 28], 31),\n",
       " ([31, 33], 28),\n",
       " ([28, 28], 33),\n",
       " ([26, 27], 33),\n",
       " ([33, 24], 27),\n",
       " ([27, 25], 24),\n",
       " ([24, 31], 25),\n",
       " ([25, 0], 31),\n",
       " ([31, 12], 0),\n",
       " ([0, 3], 12),\n",
       " ([12, 1], 3),\n",
       " ([2, 13], 0),\n",
       " ([0, 0], 13),\n",
       " ([13, 7], 0),\n",
       " ([0, 3], 7),\n",
       " ([7, 1], 3),\n",
       " ([3, 21], 1),\n",
       " ([1, 1], 21),\n",
       " ([21, 30], 1),\n",
       " ([13, 8], 2),\n",
       " ([2, 32], 8),\n",
       " ([8, 18], 32),\n",
       " ([32, 32], 18),\n",
       " ([18, 2], 32),\n",
       " ([32, 13], 2),\n",
       " ([2, 0], 13),\n",
       " ([13, 5], 0),\n",
       " ([9, 1], 2),\n",
       " ([2, 13], 1),\n",
       " ([1, 2], 13),\n",
       " ([13, 32], 2),\n",
       " ([2, 2], 32),\n",
       " ([32, 1], 2),\n",
       " ([2, 0], 1),\n",
       " ([1, 11], 0),\n",
       " ([18, 30], 33),\n",
       " ([33, 33], 30),\n",
       " ([30, 15], 33),\n",
       " ([33, 32], 15),\n",
       " ([15, 18], 32),\n",
       " ([32, 32], 18),\n",
       " ([18, 14], 32),\n",
       " ([32, 32], 14)]"
      ]
     },
     "execution_count": 35,
     "metadata": {},
     "output_type": "execute_result"
    }
   ],
   "execution_count": 35
  },
  {
   "metadata": {},
   "cell_type": "markdown",
   "source": "## 2.3. Train the CBOW model",
   "id": "ff37301ad8c227ba"
  },
  {
   "metadata": {
    "ExecuteTime": {
     "end_time": "2025-01-31T19:50:09.349967Z",
     "start_time": "2025-01-31T19:50:09.343386Z"
    }
   },
   "cell_type": "code",
   "source": [
    "import torch\n",
    "import torch.optim as optim\n",
    "\n",
    "\n",
    "def train_cbow(graph, walks_per_vertex, walk_length, window_size, embedding_dim, epochs):\n",
    "    print(\"Generating random walks...\")\n",
    "    walks = generate_random_walks(graph, walks_per_vertex, walk_length)\n",
    "\n",
    "    print(\"Creating training samples...\")\n",
    "    samples = generate_training_samples(walks, window_size)\n",
    "\n",
    "    nodes = list(graph.nodes())\n",
    "    vocab_size = len(nodes)\n",
    "    node_to_idx = {node: idx for idx, node in enumerate(nodes)}\n",
    "    idx_to_node = {idx: node for node, idx in node_to_idx.items()}\n",
    "\n",
    "    indexed_samples = [\n",
    "        ([node_to_idx[node] for node in context], node_to_idx[target])\n",
    "        for context, target in samples\n",
    "    ]\n",
    "\n",
    "    model = CBOW(vocab_size, embedding_dim)\n",
    "    loss_fn = nn.CrossEntropyLoss()\n",
    "    optimizer = optim.SGD(model.parameters())\n",
    "\n",
    "    print(\"Training CBOW model...\")\n",
    "    for epoch in range(epochs):\n",
    "        for context, target in indexed_samples:\n",
    "            context_tensor = torch.tensor(context, dtype=torch.long).unsqueeze(0)\n",
    "            target_tensor = torch.tensor([target], dtype=torch.long)\n",
    "\n",
    "            # Forward pass\n",
    "            output = model(context_tensor)\n",
    "            loss = loss_fn(output, target_tensor)\n",
    "\n",
    "            # Backward pass\n",
    "            optimizer.zero_grad()\n",
    "            loss.backward()\n",
    "            optimizer.step()\n",
    "\n",
    "        print(f\"Epoch {epoch + 1}/{epochs}\")\n",
    "\n",
    "    embeddings = model.embeddings.weight.detach().numpy()\n",
    "    return {idx_to_node[idx]: embeddings[idx] for idx in range(vocab_size)}"
   ],
   "id": "a1e49cb9ac6767d2",
   "outputs": [],
   "execution_count": 36
  },
  {
   "metadata": {},
   "cell_type": "markdown",
   "source": "# 3. Use Deepwalk on the Zachary Karate Club graph",
   "id": "c45e48554dd2f96d"
  },
  {
   "metadata": {},
   "cell_type": "markdown",
   "source": "## 3.1. Configuration parameters for Deepwalk",
   "id": "737b65001550882f"
  },
  {
   "metadata": {
    "ExecuteTime": {
     "end_time": "2025-01-31T19:50:09.359999Z",
     "start_time": "2025-01-31T19:50:09.357688Z"
    }
   },
   "cell_type": "code",
   "source": [
    "walks_per_vertex = 10\n",
    "walk_length = 10\n",
    "window_size = 4\n",
    "embedding_dim = 64\n",
    "epochs = 10"
   ],
   "id": "6c42458a33d6fee5",
   "outputs": [],
   "execution_count": 37
  },
  {
   "metadata": {},
   "cell_type": "markdown",
   "source": "## 3.2. Run the model",
   "id": "1ad67875feebc91c"
  },
  {
   "cell_type": "code",
   "id": "initial_id",
   "metadata": {
    "collapsed": true,
    "ExecuteTime": {
     "end_time": "2025-01-31T19:50:12.104516Z",
     "start_time": "2025-01-31T19:50:09.370151Z"
    }
   },
   "source": [
    "import networkx as nx\n",
    "\n",
    "G = nx.karate_club_graph()\n",
    "\n",
    "embeddings = train_cbow(\n",
    "    graph=G,\n",
    "    walks_per_vertex=walks_per_vertex,\n",
    "    walk_length=walk_length,\n",
    "    window_size=window_size,\n",
    "    embedding_dim=embedding_dim,\n",
    "    epochs=epochs\n",
    ")\n",
    "\n",
    "for node, embedding in list(embeddings.items())[:5]:\n",
    "    print(f\"Node {node}: {embedding[:5]}...\")  # Show the first 5 dimensions"
   ],
   "outputs": [
    {
     "name": "stdout",
     "output_type": "stream",
     "text": [
      "Generating random walks...\n",
      "Creating training samples...\n",
      "Training CBOW model...\n",
      "Epoch 1/10\n",
      "Epoch 2/10\n",
      "Epoch 3/10\n",
      "Epoch 4/10\n",
      "Epoch 5/10\n",
      "Epoch 6/10\n",
      "Epoch 7/10\n",
      "Epoch 8/10\n",
      "Epoch 9/10\n",
      "Epoch 10/10\n",
      "Node 0: [-0.5940866 -1.1362841 -0.7955712  1.385723   0.9683595]...\n",
      "Node 1: [-1.1579769  -0.9907702  -0.17165294  1.5527151  -0.727644  ]...\n",
      "Node 2: [-0.19416258 -2.308882   -0.7090443  -0.77943176  1.0464908 ]...\n",
      "Node 3: [-0.8411208   1.2540535   0.29209355 -0.04503462  1.2047598 ]...\n",
      "Node 4: [-1.3868707 -2.481092  -2.7585576 -0.8491053  1.0002733]...\n"
     ]
    }
   ],
   "execution_count": 38
  },
  {
   "metadata": {},
   "cell_type": "markdown",
   "source": "## 3.3. Convert the embeddings to an np.array",
   "id": "63399d510643eeb9"
  },
  {
   "metadata": {
    "ExecuteTime": {
     "end_time": "2025-01-31T19:50:12.122087Z",
     "start_time": "2025-01-31T19:50:12.118900Z"
    }
   },
   "cell_type": "code",
   "source": [
    "import numpy as np\n",
    "\n",
    "embedding_list = list(embeddings.values())\n",
    "embeddings_np = np.array(embedding_list)\n",
    "embeddings_np"
   ],
   "id": "fb2fa4deb2bfc53",
   "outputs": [
    {
     "data": {
      "text/plain": [
       "array([[-0.5940866 , -1.1362841 , -0.7955712 , ...,  0.10080135,\n",
       "        -0.59937435,  0.8871537 ],\n",
       "       [-1.1579769 , -0.9907702 , -0.17165294, ...,  0.20217977,\n",
       "         0.6706039 , -0.5775587 ],\n",
       "       [-0.19416258, -2.308882  , -0.7090443 , ...,  1.2555554 ,\n",
       "        -0.9622706 ,  0.8479617 ],\n",
       "       ...,\n",
       "       [-0.5519694 ,  0.63844174,  0.50599575, ...,  1.0053324 ,\n",
       "        -0.58208925, -1.301818  ],\n",
       "       [ 0.9533931 ,  1.9202971 ,  0.76486385, ...,  0.27272233,\n",
       "        -0.00940287,  0.88559663],\n",
       "       [ 0.6071821 ,  1.57324   , -0.13611291, ...,  0.48483738,\n",
       "         0.26539335, -1.8328    ]], shape=(34, 64), dtype=float32)"
      ]
     },
     "execution_count": 39,
     "metadata": {},
     "output_type": "execute_result"
    }
   ],
   "execution_count": 39
  },
  {
   "metadata": {},
   "cell_type": "markdown",
   "source": "## 3.4. Use tSNE to reduce the embedding space to 2 dimensions",
   "id": "3cf2f5df86db9cb0"
  },
  {
   "metadata": {
    "ExecuteTime": {
     "end_time": "2025-01-31T19:50:12.331588Z",
     "start_time": "2025-01-31T19:50:12.149176Z"
    }
   },
   "cell_type": "code",
   "source": [
    "from sklearn.manifold import TSNE\n",
    "\n",
    "tsne = TSNE()\n",
    "X_embedded = tsne.fit_transform(embeddings_np)\n",
    "\n",
    "X_embedded"
   ],
   "id": "2565dad7f34e9303",
   "outputs": [
    {
     "data": {
      "text/plain": [
       "array([[ 0.43117142, -0.38645896],\n",
       "       [ 0.45032468, -0.9377111 ],\n",
       "       [ 0.34445062, -0.25653967],\n",
       "       [ 0.17278436, -0.6600156 ],\n",
       "       [ 0.12040263, -0.28396124],\n",
       "       [ 0.74814403, -0.4034937 ],\n",
       "       [-0.13663307, -0.8469175 ],\n",
       "       [ 0.63561296, -0.16461499],\n",
       "       [ 0.5577272 , -1.148248  ],\n",
       "       [ 0.8123037 , -0.40251192],\n",
       "       [ 1.1251919 , -0.642628  ],\n",
       "       [ 0.54279155,  0.005013  ],\n",
       "       [-0.07616258, -0.9377796 ],\n",
       "       [ 0.3681884 , -0.86809945],\n",
       "       [ 0.54853815, -0.74889684],\n",
       "       [ 0.75201917, -0.67702746],\n",
       "       [ 1.1150619 , -0.6192373 ],\n",
       "       [ 0.984936  , -0.9084478 ],\n",
       "       [ 0.6122221 , -1.090701  ],\n",
       "       [ 0.179958  , -0.23499   ],\n",
       "       [ 0.3513289 , -1.4541447 ],\n",
       "       [ 0.69110507, -1.3788825 ],\n",
       "       [ 0.27296713, -0.88580865],\n",
       "       [ 0.3707614 , -1.0536455 ],\n",
       "       [ 1.1602682 , -1.0388913 ],\n",
       "       [ 0.66248506, -0.7360543 ],\n",
       "       [-0.13646808, -1.0024214 ],\n",
       "       [ 0.17117725, -0.4996932 ],\n",
       "       [ 0.82412857, -1.2127694 ],\n",
       "       [-0.11388572, -0.4151971 ],\n",
       "       [ 0.4459261 , -0.632783  ],\n",
       "       [ 0.5287097 , -0.7408965 ],\n",
       "       [ 0.7888025 , -0.9910279 ],\n",
       "       [ 0.33281302, -0.94973457]], dtype=float32)"
      ]
     },
     "execution_count": 40,
     "metadata": {},
     "output_type": "execute_result"
    }
   ],
   "execution_count": 40
  },
  {
   "metadata": {},
   "cell_type": "markdown",
   "source": "## 3.5. Plot the result of tSNE",
   "id": "ea6c2edff31d527"
  },
  {
   "metadata": {
    "ExecuteTime": {
     "end_time": "2025-01-31T19:50:12.460246Z",
     "start_time": "2025-01-31T19:50:12.372602Z"
    }
   },
   "cell_type": "code",
   "source": [
    "import matplotlib.pyplot as plt\n",
    "\n",
    "x_coords = [point[0] for point in X_embedded]\n",
    "y_coords = [point[1] for point in X_embedded]\n",
    "\n",
    "plt.scatter(x_coords, y_coords, s=50)\n",
    "\n",
    "for i, point in enumerate(X_embedded):\n",
    "    plt.text(point[0], point[1], str(i), ha='center', va='bottom', fontsize=8)\n",
    "\n",
    "plt.xlabel('X')\n",
    "plt.ylabel('Y')\n",
    "plt.title('2D Scatter Plot')\n",
    "\n",
    "plt.show()"
   ],
   "id": "c3834fdb5e73ec06",
   "outputs": [
    {
     "data": {
      "text/plain": [
       "<Figure size 640x480 with 1 Axes>"
      ],
      "image/png": "[encoded data removed]"
     },
     "metadata": {},
     "output_type": "display_data"
    }
   ],
   "execution_count": 41
  }
 ],
 "metadata": {
  "kernelspec": {
   "display_name": "Python 3",
   "language": "python",
   "name": "python3"
  },
  "language_info": {
   "codemirror_mode": {
    "name": "ipython",
    "version": 2
   },
   "file_extension": ".py",
   "mimetype": "text/x-python",
   "name": "python",
   "nbconvert_exporter": "python",
   "pygments_lexer": "ipython2",
   "version": "2.7.6"
  }
 },
 "nbformat": 4,
 "nbformat_minor": 5
}
